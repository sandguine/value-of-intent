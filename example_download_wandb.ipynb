{
 "cells": [
  {
   "cell_type": "code",
   "execution_count": 1,
   "metadata": {},
   "outputs": [],
   "source": [
    "import wandb\n",
    "\n",
    "api = wandb.Api()\n",
    "\n",
    "# sweep = api.sweep(\"nlauffer/carrot-horse/azgnn93b\")\n",
    "# sweep_runs = sweep.runs\n",
    "sweep_runs = [api.run(\"nlauffer/carrot-horse/ha006fad\")]"
   ]
  },
  {
   "cell_type": "code",
   "execution_count": 2,
   "metadata": {},
   "outputs": [],
   "source": [
    "artifact_map = {}\n",
    "for run in sweep_runs:\n",
    "    artifacts = run.logged_artifacts()\n",
    "    try:\n",
    "        *_, last = artifacts\n",
    "    except ValueError:\n",
    "        continue\n",
    "    for artifact in artifacts:\n",
    "        if artifact.type == 'model':\n",
    "            last_params_artifact = artifact\n",
    "\n",
    "    artifact_map[run] = last_params_artifact"
   ]
  },
  {
   "cell_type": "code",
   "execution_count": 3,
   "metadata": {},
   "outputs": [
    {
     "name": "stderr",
     "output_type": "stream",
     "text": [
      "\u001b[34m\u001b[1mwandb\u001b[0m: Using wandb-core as the SDK backend. Please refer to https://wandb.me/wandb-core for more information.\n"
     ]
    },
    {
     "name": "stdout",
     "output_type": "stream",
     "text": [
      "overcooked/cramped_room/RAD_horse_0.pkl\n"
     ]
    },
    {
     "name": "stderr",
     "output_type": "stream",
     "text": [
      "\u001b[34m\u001b[1mwandb\u001b[0m:   1 of 1 files downloaded.  \n"
     ]
    }
   ],
   "source": [
    "path_map = {}\n",
    "for k,v in artifact_map.items():\n",
    "    horesplay = k.config['HORSEPLAY_RATIO']\n",
    "    # carrot_lr = k.config['LR.CARROT']\n",
    "    rppo_alg = k.config['RPPO_ALG']\n",
    "    victim = k.config[\"VICTIM_PARAM_PATH\"]\n",
    "    path_key = victim\n",
    "    print(path_key)\n",
    "    if path_key not in path_map:\n",
    "        path_map[path_key] = []\n",
    "\n",
    "    path_map[path_key].append(v.download())\n",
    "\n"
   ]
  },
  {
   "cell_type": "code",
   "execution_count": 5,
   "metadata": {},
   "outputs": [],
   "source": [
    "import pickle\n",
    "# pickle dump path_map\n",
    "pickle.dump(path_map, open('artifacts/storm_ind_long_adam.pkl', 'wb'))\n"
   ]
  },
  {
   "cell_type": "code",
   "execution_count": 4,
   "metadata": {},
   "outputs": [
    {
     "name": "stdout",
     "output_type": "stream",
     "text": [
      "overcooked/cramped_room/RAD_horse_0.pkl\n"
     ]
    }
   ],
   "source": [
    "import pickle\n",
    "param_map = {}\n",
    "for k,v in path_map.items():\n",
    "    print(k)\n",
    "    param_list = []\n",
    "    for path in v:\n",
    "        params = pickle.load(open(f\"{path}/model_params.pkl\", 'rb'))\n",
    "        param_list.append(params)\n",
    "    param_map[k] = param_list"
   ]
  },
  {
   "cell_type": "code",
   "execution_count": 7,
   "metadata": {},
   "outputs": [],
   "source": [
    "model = param_map['overcooked/cramped_room/RAD_horse_0.pkl'][0]['actor']['carrot']['adversary_carrot']\n",
    "pickle.dump(model, open('data/models/overcooked/cramped_room/RAP_carrot.pkl', 'wb'))"
   ]
  },
  {
   "cell_type": "code",
   "execution_count": 12,
   "metadata": {},
   "outputs": [],
   "source": [
    "rpaired_model = param_map[('doublesided_RAT', 0.1)][0]['actor']['horse']['victim_horse']\n",
    "pickle.dump(rpaired_model, open('data/models/storm_RPAIRED_horseplay0.1.pkl', 'wb'))"
   ]
  },
  {
   "cell_type": "code",
   "execution_count": 2,
   "metadata": {},
   "outputs": [
    {
     "name": "stdout",
     "output_type": "stream",
     "text": [
      "doublesided_selfplay\n",
      "doublesided_RPAIRED\n",
      "doublesided_OPAIRED\n",
      "doublesided_OAT\n",
      "doublesided_RAT\n",
      "doublesided_OAD\n",
      "doublesided_RAD\n"
     ]
    }
   ],
   "source": [
    "import pickle\n",
    "path_map = pickle.load(open('artifacts/overcooked_adam_hyperparams_map.pkl', 'rb'))\n",
    "param_map = {}\n",
    "for k,v in path_map.items():\n",
    "    print(k)\n",
    "    param_list = []\n",
    "    for path in v:\n",
    "        params = pickle.load(open(f\"{path}/model_params.pkl\", 'rb'))\n",
    "        param_list.append(params)\n",
    "    param_map[k] = param_list\n",
    "\n",
    "model = param_map['doublesided_RAT'][0]['actor']['horse']['victim_horse']"
   ]
  },
  {
   "cell_type": "code",
   "execution_count": 3,
   "metadata": {},
   "outputs": [],
   "source": [
    "pickle.dump(model, open('data/models/overcooked/cramped_room/RAT_victim.pkl', 'wb'))"
   ]
  }
 ],
 "metadata": {
  "kernelspec": {
   "display_name": ".venv",
   "language": "python",
   "name": "python3"
  },
  "language_info": {
   "codemirror_mode": {
    "name": "ipython",
    "version": 3
   },
   "file_extension": ".py",
   "mimetype": "text/x-python",
   "name": "python",
   "nbconvert_exporter": "python",
   "pygments_lexer": "ipython3",
   "version": "3.9.5"
  }
 },
 "nbformat": 4,
 "nbformat_minor": 2
}
