{
 "cells": [
  {
   "cell_type": "markdown",
   "metadata": {},
   "source": [
    "### SEC Partition"
   ]
  },
  {
   "cell_type": "code",
   "execution_count": 3,
   "metadata": {},
   "outputs": [
    {
     "data": {
      "text/plain": [
       "('/nas/ucb/sandytanwisuth/ser/value-of-intent/figures/sec_partition.svg',\n",
       " '/nas/ucb/sandytanwisuth/ser/value-of-intent/figures/sec_partition.pdf')"
      ]
     },
     "execution_count": 3,
     "metadata": {},
     "output_type": "execute_result"
    }
   ],
   "source": [
    "import matplotlib.pyplot as plt\n",
    "import numpy as np\n",
    "import matplotlib.patches as patches\n",
    "import os\n",
    "\n",
    "output_dir = \"/nas/ucb/sandytanwisuth/ser/value-of-intent/figures\"\n",
    "os.makedirs(output_dir, exist_ok=True)\n",
    "\n",
    "# Figure 1: sec_partition.pdf\n",
    "def plot_sec_partition():\n",
    "    fig, ax = plt.subplots(figsize=(5, 5))\n",
    "    colors = ['#FF9999', '#99CCFF', '#99FF99']\n",
    "    labels = ['SEC A', 'SEC B', 'SEC C']\n",
    "    np.random.seed(1)\n",
    "    for i in range(3):\n",
    "        x, y = np.random.rand(10), np.random.rand(10)\n",
    "        ax.scatter(x + i * 0.3, y + i * 0.2, color=colors[i], label=labels[i])\n",
    "    ax.set_title(\"Strategic Equivalence Partition\")\n",
    "    ax.set_xlabel(\"Policy Feature 1\")\n",
    "    ax.set_ylabel(\"Policy Feature 2\")\n",
    "    ax.legend()\n",
    "    plt.tight_layout()\n",
    "    svg_path = os.path.join(output_dir, \"sec_partition.svg\")\n",
    "    pdf_path = os.path.join(output_dir, \"sec_partition.pdf\")\n",
    "    plt.savefig(svg_path)\n",
    "    plt.savefig(pdf_path)\n",
    "    plt.close()\n",
    "    return svg_path, pdf_path\n",
    "\n",
    "plot_sec_partition()\n"
   ]
  },
  {
   "cell_type": "code",
   "execution_count": 4,
   "metadata": {},
   "outputs": [
    {
     "data": {
      "text/plain": [
       "('/nas/ucb/sandytanwisuth/ser/value-of-intent/figures/soft_clusters.svg',\n",
       " '/nas/ucb/sandytanwisuth/ser/value-of-intent/figures/soft_clusters.pdf')"
      ]
     },
     "execution_count": 4,
     "metadata": {},
     "output_type": "execute_result"
    }
   ],
   "source": [
    "# Figure 2: soft_clusters.pdf\n",
    "def plot_soft_clusters():\n",
    "    fig, ax = plt.subplots(figsize=(5, 5))\n",
    "    np.random.seed(2)\n",
    "    centers = [(0.3, 0.5), (0.6, 0.6), (0.7, 0.3)]\n",
    "    colors = ['#FFCCCB', '#ADD8E6', '#90EE90']\n",
    "    for i, (cx, cy) in enumerate(centers):\n",
    "        x = cx + 0.05 * np.random.randn(15)\n",
    "        y = cy + 0.05 * np.random.randn(15)\n",
    "        ax.scatter(x, y, alpha=0.7, label=f'ε-SEC {chr(65+i)}', color=colors[i])\n",
    "        circle = patches.Ellipse((cx, cy), 0.2, 0.15, alpha=0.2, color=colors[i])\n",
    "        ax.add_patch(circle)\n",
    "\n",
    "    ax.set_title(\"ε-Soft Strategic Equivalence\")\n",
    "    ax.set_xlabel(\"Embedding Dim 1\")\n",
    "    ax.set_ylabel(\"Embedding Dim 2\")\n",
    "    ax.legend()\n",
    "    plt.tight_layout()\n",
    "    svg_path = os.path.join(output_dir, \"soft_clusters.svg\")\n",
    "    pdf_path = os.path.join(output_dir, \"soft_clusters.pdf\")\n",
    "    plt.savefig(svg_path)\n",
    "    plt.savefig(pdf_path)\n",
    "    plt.close()\n",
    "    return svg_path, pdf_path\n",
    "\n",
    "plot_soft_clusters()"
   ]
  },
  {
   "cell_type": "code",
   "execution_count": 5,
   "metadata": {},
   "outputs": [
    {
     "data": {
      "text/plain": [
       "('/nas/ucb/sandytanwisuth/ser/value-of-intent/figures/contrastive_cpc.svg',\n",
       " '/nas/ucb/sandytanwisuth/ser/value-of-intent/figures/contrastive_cpc.pdf')"
      ]
     },
     "execution_count": 5,
     "metadata": {},
     "output_type": "execute_result"
    }
   ],
   "source": [
    "# Figure 3: contrastive_cpc.pdf\n",
    "def plot_contrastive_cpc():\n",
    "    fig, ax = plt.subplots(figsize=(6, 4))\n",
    "\n",
    "    # Anchor representation\n",
    "    ax.scatter(0.5, 0.5, color='black', s=100, label='Anchor h(π₋ᵢ)')\n",
    "    ax.text(0.5, 0.48, \"h(π₋ᵢ)\", fontsize=10, ha='center')\n",
    "\n",
    "    # Positive sample\n",
    "    ax.scatter(0.8, 0.7, color='green', s=80, label='Positive a⁺')\n",
    "    ax.annotate(\"a⁺\", xy=(0.8, 0.7), xytext=(0.65, 0.65),\n",
    "                arrowprops=dict(arrowstyle=\"->\", lw=2, color='green'), fontsize=10)\n",
    "\n",
    "    # Negative samples\n",
    "    neg_coords = [(0.2, 0.8), (0.3, 0.3), (0.7, 0.2)]\n",
    "    for i, (x, y) in enumerate(neg_coords):\n",
    "        ax.scatter(x, y, color='red', s=80)\n",
    "        ax.annotate(f\"a⁻_{i+1}\", xy=(x, y), xytext=(x + 0.1, y + 0.05),\n",
    "                    arrowprops=dict(arrowstyle=\"->\", lw=1.5, color='red'), fontsize=9)\n",
    "\n",
    "    ax.set_xlim(0, 1)\n",
    "    ax.set_ylim(0, 1)\n",
    "    ax.set_title(\"Contrastive InfoNCE Objective\")\n",
    "    ax.set_xlabel(\"Embedding space\")\n",
    "    ax.set_ylabel(\"Action representation\")\n",
    "    ax.legend()\n",
    "    plt.tight_layout()\n",
    "    svg_path = os.path.join(output_dir, \"contrastive_cpc.svg\")\n",
    "    pdf_path = os.path.join(output_dir, \"contrastive_cpc.pdf\")\n",
    "    plt.savefig(svg_path)\n",
    "    plt.savefig(pdf_path)\n",
    "    plt.close()\n",
    "    return svg_path, pdf_path\n",
    "\n",
    "plot_contrastive_cpc()\n"
   ]
  },
  {
   "cell_type": "code",
   "execution_count": 6,
   "metadata": {},
   "outputs": [
    {
     "data": {
      "text/plain": [
       "('/nas/ucb/sandytanwisuth/ser/value-of-intent/figures/masr_equivalence.svg',\n",
       " '/nas/ucb/sandytanwisuth/ser/value-of-intent/figures/masr_equivalence.pdf')"
      ]
     },
     "execution_count": 6,
     "metadata": {},
     "output_type": "execute_result"
    }
   ],
   "source": [
    "# Figure 4: masr_equivalence.pdf\n",
    "def plot_masr_equivalence():\n",
    "    fig, ax = plt.subplots(figsize=(6, 4))\n",
    "\n",
    "    # Simulate two MASR distributions as overlapping lines\n",
    "    x = np.linspace(0, 10, 100)\n",
    "    y1 = np.exp(-0.3 * (x - 3)**2)\n",
    "    y2 = np.exp(-0.3 * (x - 4.5)**2)\n",
    "\n",
    "    ax.plot(x, y1, label='Mπi_π₋i(s, a, s\\')', color='blue', lw=2)\n",
    "    ax.plot(x, y2, label='Mπi_π₋i\\'(s, a, s\\')', color='orange', lw=2, linestyle='--')\n",
    "    ax.fill_between(x, np.minimum(y1, y2), alpha=0.2, color='purple', label='Overlap')\n",
    "\n",
    "    ax.set_title(\"MASR Equivalence: Discounted State Distribution\")\n",
    "    ax.set_xlabel(\"State s'\")\n",
    "    ax.set_ylabel(\"Occupancy\")\n",
    "    ax.legend()\n",
    "    plt.tight_layout()\n",
    "    svg_path = os.path.join(output_dir, \"masr_equivalence.svg\")\n",
    "    pdf_path = os.path.join(output_dir, \"masr_equivalence.pdf\")\n",
    "    plt.savefig(svg_path)\n",
    "    plt.savefig(pdf_path)\n",
    "    plt.close()\n",
    "    return svg_path, pdf_path\n",
    "\n",
    "plot_masr_equivalence()\n"
   ]
  },
  {
   "cell_type": "code",
   "execution_count": 7,
   "metadata": {},
   "outputs": [
    {
     "data": {
      "text/plain": [
       "('/nas/ucb/sandytanwisuth/ser/value-of-intent/figures/intentional_info.svg',\n",
       " '/nas/ucb/sandytanwisuth/ser/value-of-intent/figures/intentional_info.pdf')"
      ]
     },
     "execution_count": 7,
     "metadata": {},
     "output_type": "execute_result"
    }
   ],
   "source": [
    "# Figure 5: intentional_info.pdf\n",
    "def plot_intentional_info():\n",
    "    fig, ax = plt.subplots(figsize=(6, 4))\n",
    "\n",
    "    # Simulate two policy distributions with same MI\n",
    "    np.random.seed(5)\n",
    "    states = np.array([0, 1, 2, 3, 4])\n",
    "    actions_policy1 = np.array([0.2, 0.3, 0.1, 0.25, 0.15])\n",
    "    actions_policy2 = np.array([0.15, 0.25, 0.2, 0.3, 0.1])\n",
    "\n",
    "    width = 0.35\n",
    "    ax.bar(states - width/2, actions_policy1, width, label='π₁: P(a|s)', color='skyblue')\n",
    "    ax.bar(states + width/2, actions_policy2, width, label='π₂: P(a|s)', color='salmon')\n",
    "\n",
    "    ax.set_xticks(states)\n",
    "    ax.set_xticklabels([f's{i}' for i in states])\n",
    "    ax.set_xlabel(\"State s\")\n",
    "    ax.set_ylabel(\"P(a | s)\")\n",
    "    ax.set_title(\"Intentional Information Equivalence:\\nMutual Info I(S;A) is Equal\")\n",
    "    ax.legend()\n",
    "    plt.tight_layout()\n",
    "    svg_path = os.path.join(output_dir, \"intentional_info.svg\")\n",
    "    pdf_path = os.path.join(output_dir, \"intentional_info.pdf\")\n",
    "    plt.savefig(svg_path)\n",
    "    plt.savefig(pdf_path)\n",
    "    plt.close()\n",
    "    return svg_path, pdf_path\n",
    "\n",
    "plot_intentional_info()\n"
   ]
  },
  {
   "cell_type": "code",
   "execution_count": 8,
   "metadata": {},
   "outputs": [
    {
     "data": {
      "text/plain": [
       "('/nas/ucb/sandytanwisuth/ser/value-of-intent/figures/inclusion_chain.svg',\n",
       " '/nas/ucb/sandytanwisuth/ser/value-of-intent/figures/inclusion_chain.pdf')"
      ]
     },
     "execution_count": 8,
     "metadata": {},
     "output_type": "execute_result"
    }
   ],
   "source": [
    "# Figure 6: inclusion_chain.pdf\n",
    "def plot_inclusion_chain():\n",
    "    fig, ax = plt.subplots(figsize=(7, 3.5))\n",
    "\n",
    "    # Create nested boxes for abstraction levels\n",
    "    ax.text(0.1, 0.7, 'IIE', fontsize=12, bbox=dict(boxstyle=\"round,pad=0.3\", facecolor='lightgreen'))\n",
    "    ax.arrow(0.2, 0.72, 0.15, 0.0, head_width=0.05, head_length=0.05, fc='black', ec='black')\n",
    "\n",
    "    ax.text(0.4, 0.7, 'SF-SER', fontsize=12, bbox=dict(boxstyle=\"round,pad=0.3\", facecolor='lightblue'))\n",
    "    ax.arrow(0.5, 0.72, 0.15, 0.0, head_width=0.05, head_length=0.05, fc='black', ec='black')\n",
    "\n",
    "    ax.text(0.7, 0.7, 'MASR-SER', fontsize=12, bbox=dict(boxstyle=\"round,pad=0.3\", facecolor='khaki'))\n",
    "    ax.arrow(0.8, 0.72, 0.15, 0.0, head_width=0.05, head_length=0.05, fc='black', ec='black')\n",
    "\n",
    "    ax.text(1.0, 0.7, 'SER', fontsize=12, bbox=dict(boxstyle=\"round,pad=0.3\", facecolor='lightcoral'))\n",
    "\n",
    "    ax.set_xlim(0, 1.2)\n",
    "    ax.set_ylim(0, 1)\n",
    "    ax.axis('off')\n",
    "    ax.set_title(\"Inclusion Chain of Strategic Abstractions\")\n",
    "\n",
    "    plt.tight_layout()\n",
    "    svg_path = os.path.join(output_dir, \"inclusion_chain.svg\")\n",
    "    pdf_path = os.path.join(output_dir, \"inclusion_chain.pdf\")\n",
    "    plt.savefig(svg_path)\n",
    "    plt.savefig(pdf_path)\n",
    "    plt.close()\n",
    "    return svg_path, pdf_path\n",
    "\n",
    "plot_inclusion_chain()\n"
   ]
  },
  {
   "cell_type": "code",
   "execution_count": 9,
   "metadata": {},
   "outputs": [
    {
     "data": {
      "text/plain": [
       "('/nas/ucb/sandytanwisuth/ser/value-of-intent/figures/delta_sec_plot.svg',\n",
       " '/nas/ucb/sandytanwisuth/ser/value-of-intent/figures/delta_sec_plot.pdf')"
      ]
     },
     "execution_count": 9,
     "metadata": {},
     "output_type": "execute_result"
    }
   ],
   "source": [
    "# Figure 7: delta_sec_plot.pdf\n",
    "def plot_delta_sec():\n",
    "    fig, ax = plt.subplots(figsize=(6, 4))\n",
    "\n",
    "    # Simulated refinement curve\n",
    "    t = np.arange(0, 100, 1)\n",
    "    delta_sec = 1.5 * np.exp(-t / 25) + 0.1 * np.random.randn(len(t))\n",
    "    delta_sec = np.clip(delta_sec, 0, None)\n",
    "\n",
    "    ax.plot(t, delta_sec, color='purple', lw=2)\n",
    "    ax.set_title(\"Strategic Ambiguity Reduction Over Time\")\n",
    "    ax.set_xlabel(\"Training Steps t\")\n",
    "    ax.set_ylabel(\"ΔSEC(t)\")\n",
    "    ax.grid(True)\n",
    "\n",
    "    plt.tight_layout()\n",
    "    svg_path = os.path.join(output_dir, \"delta_sec_plot.svg\")\n",
    "    pdf_path = os.path.join(output_dir, \"delta_sec_plot.pdf\")\n",
    "    plt.savefig(svg_path)\n",
    "    plt.savefig(pdf_path)\n",
    "    plt.close()\n",
    "    return svg_path, pdf_path\n",
    "\n",
    "plot_delta_sec()\n"
   ]
  },
  {
   "cell_type": "markdown",
   "metadata": {},
   "source": [
    "When does all level collapsed?"
   ]
  },
  {
   "cell_type": "code",
   "execution_count": 1,
   "metadata": {},
   "outputs": [
    {
     "data": {
      "image/png": "[encoded data removed]",
      "text/plain": [
       "<Figure size 1000x600 with 1 Axes>"
      ]
     },
     "metadata": {},
     "output_type": "display_data"
    }
   ],
   "source": [
    "import matplotlib.pyplot as plt\n",
    "import matplotlib.patches as patches\n",
    "\n",
    "# Setup figure\n",
    "fig, ax = plt.subplots(figsize=(10, 6))\n",
    "\n",
    "# Collapsed scenario (under strict assumptions)\n",
    "collapsed_levels = [\n",
    "    {\"label\": \"IIE = SF-SER = MASR-SER = SER\", \"color\": \"#a2d4c9\", \"y\": 3}\n",
    "]\n",
    "\n",
    "# General case (hierarchy)\n",
    "general_levels = [\n",
    "    {\"label\": \"IIE\", \"color\": \"#d0e1f9\", \"y\": 2.1},\n",
    "    {\"label\": \"SF-SER\", \"color\": \"#a6c8f0\", \"y\": 1.4},\n",
    "    {\"label\": \"MASR-SER\", \"color\": \"#73a5e6\", \"y\": 0.7},\n",
    "    {\"label\": \"SER\", \"color\": \"#4c8cd4\", \"y\": 0.0}\n",
    "]\n",
    "\n",
    "# Draw general case hierarchy\n",
    "for level in general_levels:\n",
    "    ax.text(7, level[\"y\"], level[\"label\"], ha='center', va='center',\n",
    "            bbox=dict(facecolor=level[\"color\"], edgecolor='black', boxstyle='round,pad=0.3'),\n",
    "            fontsize=10, weight='bold')\n",
    "\n",
    "# Draw collapsed hierarchy\n",
    "for level in collapsed_levels:\n",
    "    ax.text(2.5, level[\"y\"], level[\"label\"], ha='center', va='center',\n",
    "            bbox=dict(facecolor=level[\"color\"], edgecolor='black', boxstyle='round,pad=0.4'),\n",
    "            fontsize=10, weight='bold')\n",
    "\n",
    "# Labels\n",
    "ax.text(2.5, 3.6, \"Under strict assumptions\", ha='center', fontsize=12, weight='bold')\n",
    "ax.text(7, 3.6, \"General case\", ha='center', fontsize=12, weight='bold')\n",
    "\n",
    "# Arrows\n",
    "for i in range(len(general_levels)-1):\n",
    "    ax.annotate(\"\", xy=(7, general_levels[i+1][\"y\"]+0.25), xytext=(7, general_levels[i][\"y\"]-0.25),\n",
    "                arrowprops=dict(arrowstyle=\"->\", color='gray'))\n",
    "\n",
    "# Axes formatting\n",
    "ax.set_xlim(0, 10)\n",
    "ax.set_ylim(-0.5, 4)\n",
    "ax.axis('off')\n",
    "plt.title(\"Hierarchy Collapse vs. General Abstraction Structure\", fontsize=14, weight='bold')\n",
    "plt.show()\n"
   ]
  }
 ],
 "metadata": {
  "kernelspec": {
   "display_name": "voi",
   "language": "python",
   "name": "python3"
  },
  "language_info": {
   "codemirror_mode": {
    "name": "ipython",
    "version": 3
   },
   "file_extension": ".py",
   "mimetype": "text/x-python",
   "name": "python",
   "nbconvert_exporter": "python",
   "pygments_lexer": "ipython3",
   "version": "3.10.16"
  }
 },
 "nbformat": 4,
 "nbformat_minor": 2
}
