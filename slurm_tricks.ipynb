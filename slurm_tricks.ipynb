{
 "cells": [
  {
   "cell_type": "markdown",
   "metadata": {},
   "source": [
    "##### Quick and Dirty Slurm Tricks\n",
    "\n",
    "1. Run sinfo -p main -N -l to check node availability.\n",
    "2. Run on anything that's idle. Mixed is slightly riskier.\n",
    "3. Specify a specific node #SBATCH --nodelist=dqn.ist.berkeley.edu\n",
    "4. Run scontrol show node <nodename> to confirm GPU availability before submission."
   ]
  }
 ],
 "metadata": {
  "language_info": {
   "name": "python"
  }
 },
 "nbformat": 4,
 "nbformat_minor": 2
}
